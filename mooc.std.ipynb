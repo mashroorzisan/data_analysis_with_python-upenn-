{
 "cells": [
  {
   "cell_type": "code",
   "execution_count": 15,
   "metadata": {},
   "outputs": [
    {
     "name": "stdout",
     "output_type": "stream",
     "text": [
      "The youngest student is +Tom who is 27 years old.\n"
     ]
    }
   ],
   "source": [
    "import csv\n",
    "youngest_student = None\n",
    "min_age = None\n",
    "with open('MOOC.csv', 'r') as csvfile:\n",
    "    reader = csv.DictReader(csvfile)\n",
    "    for row in reader:\n",
    "        age = int(row['age'])\n",
    "        if(min_age == None or min_age> age):\n",
    "            youngest_student = row['name']\n",
    "            min_age = age\n",
    "\n",
    "if min_age == None:\n",
    "    print(\"The file DNC any students\")\n",
    "else:\n",
    "    print(\"The youngest student is +\" +  str(youngest_student) + \" who is \" + str(min_age) +\" years old.\"  )"
   ]
  },
  {
   "cell_type": "code",
   "execution_count": 16,
   "metadata": {},
   "outputs": [
    {
     "name": "stdout",
     "output_type": "stream",
     "text": [
      "Tom 27 180.0\n"
     ]
    }
   ],
   "source": [
    "import csv\n",
    "students = []\n",
    "with open('MOOC.csv', 'r') as csvfile:\n",
    "    reader = csv.DictReader(csvfile)\n",
    "    for row in reader:\n",
    "        students.append(row)\n",
    "filtered_students = [row for row in students if (int(row[\"age\"]) < 30 and float(row[\"weight\"]) < 190)]\n",
    "for student in filtered_students:\n",
    "    print(student[\"name\"], student[\"age\"], student[\"weight\"])\n"
   ]
  },
  {
   "cell_type": "code",
   "execution_count": 2,
   "metadata": {},
   "outputs": [
    {
     "ename": "ValueError",
     "evalue": "could not convert string to float: 'one'",
     "output_type": "error",
     "traceback": [
      "\u001b[1;31m---------------------------------------------------------------------------\u001b[0m",
      "\u001b[1;31mValueError\u001b[0m                                Traceback (most recent call last)",
      "Cell \u001b[1;32mIn[2], line 10\u001b[0m\n\u001b[0;32m      8\u001b[0m         \u001b[39mprint\u001b[39m (\u001b[39m'\u001b[39m\u001b[39mError!\u001b[39m\u001b[39m'\u001b[39m)\n\u001b[0;32m      9\u001b[0m     \u001b[39mreturn\u001b[39;00m calculated_number\n\u001b[1;32m---> 10\u001b[0m \u001b[39mprint\u001b[39m(calculate(\u001b[39m'\u001b[39;49m\u001b[39mone\u001b[39;49m\u001b[39m'\u001b[39;49m, \u001b[39m'\u001b[39;49m\u001b[39mzero\u001b[39;49m\u001b[39m'\u001b[39;49m))\n",
      "Cell \u001b[1;32mIn[2], line 3\u001b[0m, in \u001b[0;36mcalculate\u001b[1;34m(str1, str2)\u001b[0m\n\u001b[0;32m      1\u001b[0m \u001b[39mdef\u001b[39;00m \u001b[39mcalculate\u001b[39m(str1, str2):\n\u001b[0;32m      2\u001b[0m     calculated_number \u001b[39m=\u001b[39m \u001b[39m0\u001b[39m\n\u001b[1;32m----> 3\u001b[0m     num1 \u001b[39m=\u001b[39m \u001b[39mfloat\u001b[39;49m(str1)\n\u001b[0;32m      4\u001b[0m     num2 \u001b[39m=\u001b[39m \u001b[39mfloat\u001b[39m(str2)\n\u001b[0;32m      5\u001b[0m     \u001b[39mtry\u001b[39;00m:\n",
      "\u001b[1;31mValueError\u001b[0m: could not convert string to float: 'one'"
     ]
    }
   ],
   "source": [
    "def calculate(str1, str2):\n",
    "    calculated_number = 0\n",
    "    num1 = float(str1)\n",
    "    num2 = float(str2)\n",
    "    try:\n",
    "        calculated_number = num1 / num2\n",
    "    except ValueError:\n",
    "        print ('Error!')\n",
    "    return calculated_number\n",
    "print(calculate('one', 'zero'))\n"
   ]
  }
 ],
 "metadata": {
  "kernelspec": {
   "display_name": "Python 3",
   "language": "python",
   "name": "python3"
  },
  "language_info": {
   "codemirror_mode": {
    "name": "ipython",
    "version": 3
   },
   "file_extension": ".py",
   "mimetype": "text/x-python",
   "name": "python",
   "nbconvert_exporter": "python",
   "pygments_lexer": "ipython3",
   "version": "3.11.1"
  },
  "orig_nbformat": 4
 },
 "nbformat": 4,
 "nbformat_minor": 2
}
