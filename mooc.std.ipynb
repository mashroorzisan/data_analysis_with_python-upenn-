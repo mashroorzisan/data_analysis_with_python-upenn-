{
 "cells": [
  {
   "cell_type": "code",
   "execution_count": 15,
   "metadata": {},
   "outputs": [
    {
     "name": "stdout",
     "output_type": "stream",
     "text": [
      "The youngest student is +Tom who is 27 years old.\n"
     ]
    }
   ],
   "source": [
    "import csv\n",
    "youngest_student = None\n",
    "min_age = None\n",
    "with open('MOOC.csv', 'r') as csvfile:\n",
    "    reader = csv.DictReader(csvfile)\n",
    "    for row in reader:\n",
    "        age = int(row['age'])\n",
    "        if(min_age == None or min_age> age):\n",
    "            youngest_student = row['name']\n",
    "            min_age = age\n",
    "\n",
    "if min_age == None:\n",
    "    print(\"The file DNC any students\")\n",
    "else:\n",
    "    print(\"The youngest student is +\" +  str(youngest_student) + \" who is \" + str(min_age) +\" years old.\"  )"
   ]
  },
  {
   "cell_type": "code",
   "execution_count": 16,
   "metadata": {},
   "outputs": [
    {
     "name": "stdout",
     "output_type": "stream",
     "text": [
      "Tom 27 180.0\n"
     ]
    }
   ],
   "source": [
    "import csv\n",
    "students = []\n",
    "with open('MOOC.csv', 'r') as csvfile:\n",
    "    reader = csv.DictReader(csvfile)\n",
    "    for row in reader:\n",
    "        students.append(row)\n",
    "filtered_students = [row for row in students if (int(row[\"age\"]) < 30 and float(row[\"weight\"]) < 190)]\n",
    "for student in filtered_students:\n",
    "    print(student[\"name\"], student[\"age\"], student[\"weight\"])\n"
   ]
  }
 ],
 "metadata": {
  "kernelspec": {
   "display_name": "Python 3",
   "language": "python",
   "name": "python3"
  },
  "language_info": {
   "codemirror_mode": {
    "name": "ipython",
    "version": 3
   },
   "file_extension": ".py",
   "mimetype": "text/x-python",
   "name": "python",
   "nbconvert_exporter": "python",
   "pygments_lexer": "ipython3",
   "version": "3.11.1"
  },
  "orig_nbformat": 4
 },
 "nbformat": 4,
 "nbformat_minor": 2
}
